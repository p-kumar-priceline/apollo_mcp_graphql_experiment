{
 "cells": [
  {
   "cell_type": "code",
   "execution_count": null,
   "id": "f6ddd760",
   "metadata": {},
   "outputs": [],
   "source": [
    "from llama_index.tools.mcp import McpToolSpec, BasicMCPClient\n",
    "\n",
    "mcp_client = BasicMCPClient(\"http://localhost:8000/sse\")\n",
    "mcp_tools_spec = McpToolSpec(client=mcp_client)"
   ]
  }
 ],
 "metadata": {
  "kernelspec": {
   "display_name": ".venv",
   "language": "python",
   "name": "python3"
  },
  "language_info": {
   "name": "python",
   "version": "3.10.16"
  }
 },
 "nbformat": 4,
 "nbformat_minor": 5
}
